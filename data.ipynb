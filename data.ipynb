{
 "cells": [
  {
   "cell_type": "markdown",
   "id": "606acb46",
   "metadata": {},
   "source": [
    "# Importing a dataset\n",
    "## Datasets\n",
    "1. [CIFAR-10](https://www.cs.toronto.edu/~kriz/cifar.html) (60,000 32x32 colour images in 10 classes)\n",
    "2. [MNIST](http://yann.lecun.com/exdb/mnist/) (60,000 28x28 hand-written digits)"
   ]
  },
  {
   "cell_type": "code",
   "execution_count": 394,
   "id": "19309957",
   "metadata": {},
   "outputs": [],
   "source": [
    "# imports\n",
    "import torch\n",
    "import torch.nn as nn\n",
    "import numpy as np\n",
    "import matplotlib.pyplot as plt\n",
    "import pickle\n",
    "import struct\n",
    "from array import array\n",
    "from os.path  import join"
   ]
  },
  {
   "cell_type": "markdown",
   "id": "5fba7f10",
   "metadata": {},
   "source": [
    "### CIFAR-10\n",
    "Download python version [here](https://www.cs.toronto.edu/~kriz/cifar-10-python.tar.gz)"
   ]
  },
  {
   "cell_type": "code",
   "execution_count": 395,
   "id": "999a6f2a",
   "metadata": {},
   "outputs": [],
   "source": [
    "# importing CIFAR-10 (link to a data batch)\n",
    "file_location = './cifar-10/data_batch_1'"
   ]
  },
  {
   "cell_type": "code",
   "execution_count": 396,
   "id": "47bc82d8",
   "metadata": {},
   "outputs": [],
   "source": [
    "def unpickle(file):\n",
    "    with open(file, 'rb') as fo:\n",
    "        dict = pickle.load(fo, encoding='bytes')\n",
    "    return dict"
   ]
  },
  {
   "cell_type": "code",
   "execution_count": 397,
   "id": "bec04761",
   "metadata": {},
   "outputs": [],
   "source": [
    "cifar = unpickle(file_location)[b'data']"
   ]
  },
  {
   "cell_type": "code",
   "execution_count": 398,
   "id": "2f79703c",
   "metadata": {},
   "outputs": [],
   "source": [
    "# retrieve a random image\n",
    "rand = np.random.randint(0, 10000) # every batch contains 10,000 images\n",
    "image = cifar[rand]"
   ]
  },
  {
   "cell_type": "code",
   "execution_count": 399,
   "id": "10b60f99",
   "metadata": {},
   "outputs": [],
   "source": [
    "# create a tensor\n",
    "image = image.reshape(1, 3, 32, 32).astype(np.float32)\n",
    "image = torch.from_numpy(image)"
   ]
  },
  {
   "cell_type": "code",
   "execution_count": 400,
   "id": "c1e9ebe3",
   "metadata": {},
   "outputs": [],
   "source": [
    "def show_tensor(image):\n",
    "    image = image.cpu().detach().numpy()[0]\n",
    "    image = image.swapaxes(0,1)\n",
    "    image = image.swapaxes(1,2)\n",
    "    plt.imshow(image.astype(\"uint8\"))"
   ]
  },
  {
   "cell_type": "code",
   "execution_count": 401,
   "id": "bee49c93",
   "metadata": {},
   "outputs": [
    {
     "data": {
      "image/png": "[encoded data removed]",
      "text/plain": [
       "<Figure size 640x480 with 1 Axes>"
      ]
     },
     "metadata": {},
     "output_type": "display_data"
    }
   ],
   "source": [
    "show_tensor(image)"
   ]
  },
  {
   "cell_type": "markdown",
   "id": "ffcad110",
   "metadata": {},
   "source": [
    "## MNIST\n",
    "Download [here](https://www.kaggle.com/datasets/hojjatk/mnist-dataset/download?datasetVersionNumber=1)"
   ]
  },
  {
   "cell_type": "code",
   "execution_count": 402,
   "id": "cf0aad34",
   "metadata": {},
   "outputs": [],
   "source": [
    "# importing MNIST (link to training set)\n",
    "input_path = './mnist'\n",
    "images_filepath = join(input_path, 'train-images-idx3-ubyte/train-images-idx3-ubyte')"
   ]
  },
  {
   "cell_type": "code",
   "execution_count": 403,
   "id": "d23a667a",
   "metadata": {},
   "outputs": [],
   "source": [
    "#\n",
    "# This is a sample Notebook to demonstrate how to read \"MNIST Dataset\"\n",
    "#\n",
    "\n",
    "#\n",
    "# MNIST Data Loader Class\n",
    "#    \n",
    "def read_images_labels():        \n",
    "    with open(images_filepath, 'rb') as file:\n",
    "        magic, size, rows, cols = struct.unpack(\">IIII\", file.read(16))\n",
    "        if magic != 2051:\n",
    "            raise ValueError('Magic number mismatch, expected 2051, got {}'.format(magic))\n",
    "        image_data = array(\"B\", file.read())        \n",
    "    images = []\n",
    "    for i in range(size):\n",
    "        images.append([0] * rows * cols)\n",
    "    for i in range(size):\n",
    "        img = np.array(image_data[i * rows * cols:(i + 1) * rows * cols])\n",
    "        img = img.reshape(28, 28)\n",
    "        images[i][:] = img            \n",
    "\n",
    "    return images"
   ]
  },
  {
   "cell_type": "code",
   "execution_count": 404,
   "id": "7f6a3ba5",
   "metadata": {},
   "outputs": [],
   "source": [
    "#\n",
    "# Load MINST dataset\n",
    "#\n",
    "mnist = read_images_labels()\n",
    "\n",
    "#\n",
    "# Retrieve a random training images \n",
    "#\n",
    "r = random.randint(1, 60000)\n",
    "image = mnist[r]"
   ]
  },
  {
   "cell_type": "code",
   "execution_count": 405,
   "id": "efe35064",
   "metadata": {},
   "outputs": [],
   "source": [
    "# Create a tensor\n",
    "image = np.array(image)\n",
    "image = image.reshape(28, 28).astype(np.float32)\n",
    "image = torch.from_numpy(image)\n",
    "image = image.repeat(1, 3, 1, 1)"
   ]
  },
  {
   "cell_type": "code",
   "execution_count": 406,
   "id": "9c998edb",
   "metadata": {},
   "outputs": [
    {
     "data": {
      "image/png": "[encoded data removed]",
      "text/plain": [
       "<Figure size 640x480 with 1 Axes>"
      ]
     },
     "metadata": {},
     "output_type": "display_data"
    }
   ],
   "source": [
    "show_tensor(image)"
   ]
  },
  {
   "cell_type": "markdown",
   "id": "3364a462",
   "metadata": {},
   "source": [
    "## Noise\n",
    "1. Salt-and-pepper"
   ]
  },
  {
   "cell_type": "code",
   "execution_count": 407,
   "id": "10714682",
   "metadata": {},
   "outputs": [],
   "source": [
    "#imports\n",
    "import copy"
   ]
  },
  {
   "cell_type": "code",
   "execution_count": 408,
   "id": "fc4ac745",
   "metadata": {},
   "outputs": [],
   "source": [
    "def sp_noise(image,prob):\n",
    "    '''\n",
    "    Add salt and pepper noise to image\n",
    "    prob: Probability of the noise\n",
    "    '''\n",
    "    output = np.zeros(image.shape,np.uint8)\n",
    "    thres = 1 - prob \n",
    "    for i in range(image.shape[2]):\n",
    "        for j in range(image.shape[3]):\n",
    "            rdn = random.random()\n",
    "            if rdn < prob:\n",
    "                output[0][0][i][j] = 0\n",
    "                output[0][1][i][j] = 0\n",
    "                output[0][2][i][j] = 0\n",
    "            elif rdn > thres:\n",
    "                output[0][0][i][j] = 255\n",
    "                output[0][1][i][j] = 255\n",
    "                output[0][2][i][j] = 255\n",
    "            else:\n",
    "                output[0][0][i][j] = image[0][0][i][j]\n",
    "                output[0][1][i][j] = image[0][1][i][j]\n",
    "                output[0][2][i][j] = image[0][2][i][j]\n",
    "    return output"
   ]
  },
  {
   "cell_type": "markdown",
   "id": "80e58613",
   "metadata": {},
   "source": [
    "## Demonstration"
   ]
  },
  {
   "cell_type": "code",
   "execution_count": 409,
   "id": "7f52cdcf",
   "metadata": {
    "scrolled": true
   },
   "outputs": [
    {
     "data": {
      "image/png": "[encoded data removed]",
      "text/plain": [
       "<Figure size 640x480 with 1 Axes>"
      ]
     },
     "metadata": {},
     "output_type": "display_data"
    }
   ],
   "source": [
    "# retrieve a random image\n",
    "rand = np.random.randint(0, 10000)\n",
    "image = cifar[rand]\n",
    "image = image.reshape(1, 3, 32, 32).astype(np.float32)\n",
    "\n",
    "image_noise = copy.deepcopy(image)\n",
    "image_noise = sp_noise(image_noise, 0.01)\n",
    "image_noise = torch.from_numpy(image_noise)\n",
    "\n",
    "image_original = torch.from_numpy(image)\n",
    "\n",
    "show_tensor(image_noise)"
   ]
  },
  {
   "cell_type": "code",
   "execution_count": 410,
   "id": "36310f9d",
   "metadata": {},
   "outputs": [
    {
     "data": {
      "image/png": "[encoded data removed]",
      "text/plain": [
       "<Figure size 640x480 with 1 Axes>"
      ]
     },
     "metadata": {},
     "output_type": "display_data"
    }
   ],
   "source": [
    "show_tensor(image_original)"
   ]
  },
  {
   "cell_type": "code",
   "execution_count": null,
   "id": "544b1197",
   "metadata": {},
   "outputs": [],
   "source": []
  }
 ],
 "metadata": {
  "kernelspec": {
   "display_name": "Python 3 (ipykernel)",
   "language": "python",
   "name": "python3"
  },
  "language_info": {
   "codemirror_mode": {
    "name": "ipython",
    "version": 3
   },
   "file_extension": ".py",
   "mimetype": "text/x-python",
   "name": "python",
   "nbconvert_exporter": "python",
   "pygments_lexer": "ipython3",
   "version": "3.9.6"
  }
 },
 "nbformat": 4,
 "nbformat_minor": 5
}
